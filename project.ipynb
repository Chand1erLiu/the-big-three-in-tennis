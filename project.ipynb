{
 "cells": [
  {
   "cell_type": "code",
   "execution_count": 3,
   "metadata": {},
   "outputs": [
    {
     "data": {
      "text/plain": [
       "1899                  6-4 6-4 6-3\n",
       "1900         7-6(5) 7-6(2) 7-6(3)\n",
       "1901              6-3 6-3 5-7 6-4\n",
       "1902               6-2 7-6(1) 6-2\n",
       "1903    3-6 7-6(4) 7-6(6) 5-7 6-4\n",
       "Name: score, dtype: object"
      ]
     },
     "execution_count": 3,
     "metadata": {},
     "output_type": "execute_result"
    }
   ],
   "source": [
    "import pandas as pd\n",
    "import os\n",
    "import glob\n",
    "  \n",
    "  \n",
    "path = os.getcwd()\n",
    "csv_files = glob.glob(os.path.join(path, \"data/*.csv\"))\n",
    "  \n",
    "  \n",
    "all_data = pd.DataFrame()\n",
    "\n",
    "for f in csv_files:\n",
    "    df = pd.read_csv(f)\n",
    "    all_data = pd.concat([all_data, df])\n",
    "      \n",
    "\n",
    "# Filter by Grand Slams\n",
    "all_data = all_data[all_data[\"tourney_level\"] == \"G\"]"
   ]
  }
 ],
 "metadata": {
  "kernelspec": {
   "display_name": "Python 3.8.10 64-bit",
   "language": "python",
   "name": "python3"
  },
  "language_info": {
   "codemirror_mode": {
    "name": "ipython",
    "version": 3
   },
   "file_extension": ".py",
   "mimetype": "text/x-python",
   "name": "python",
   "nbconvert_exporter": "python",
   "pygments_lexer": "ipython3",
   "version": "3.8.10"
  },
  "orig_nbformat": 4,
  "vscode": {
   "interpreter": {
    "hash": "916dbcbb3f70747c44a77c7bcd40155683ae19c65e1c03b4aa3499c5328201f1"
   }
  }
 },
 "nbformat": 4,
 "nbformat_minor": 2
}
